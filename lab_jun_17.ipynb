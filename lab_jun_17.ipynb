{
  "nbformat": 4,
  "nbformat_minor": 0,
  "metadata": {
    "colab": {
      "provenance": [],
      "authorship_tag": "ABX9TyMcnjG/N1kmVXvHSAXGtNTv",
      "include_colab_link": true
    },
    "kernelspec": {
      "name": "python3",
      "display_name": "Python 3"
    },
    "language_info": {
      "name": "python"
    }
  },
  "cells": [
    {
      "cell_type": "markdown",
      "metadata": {
        "id": "view-in-github",
        "colab_type": "text"
      },
      "source": [
        "<a href=\"https://colab.research.google.com/github/Erikalu808/HackTheHood-/blob/main/lab_jun_17.ipynb\" target=\"_parent\"><img src=\"https://colab.research.google.com/assets/colab-badge.svg\" alt=\"Open In Colab\"/></a>"
      ]
    },
    {
      "cell_type": "markdown",
      "source": [
        "# Lab Jun.17\n",
        "## Intro to Pseudo Code\n"
      ],
      "metadata": {
        "id": "oLHjnh8iw2AO"
      }
    },
    {
      "cell_type": "code",
      "source": [
        "# The rules to define  variables\n",
        "\n"
      ],
      "metadata": {
        "id": "Rj_Eh7blxvrx"
      },
      "execution_count": null,
      "outputs": []
    },
    {
      "cell_type": "markdown",
      "source": [
        "### Psuedo code for my application\n",
        "\n",
        "I want to write a program that takes user input and prints it back to the screen.\n",
        "\n",
        "`First_name` the user's first name\n",
        "\n",
        "`Last_Name` the user's last name\n",
        "\n",
        "`Age` the user's age\n",
        "\n",
        "`Fav_Colour` the user's favourite colour\n",
        "\n",
        "`Fav_Sport` the user's favourite sport\n",
        "\n",
        "`Fav_Team` the user's favourite team\n",
        "\n",
        "use a 'built-in' process to take user's data.\n",
        "\n",
        "use a 'built-in' process to display user's data.\n",
        "\n",
        "\n",
        "\n",
        "\n",
        "\n"
      ],
      "metadata": {
        "id": "ZPs1gHFs1Wbu"
      }
    },
    {
      "cell_type": "code",
      "source": [
        "First_name = 'John'\n",
        "\n",
        "Last_Name = 'Connor'\n",
        "\n",
        "Age = 23\n",
        "\n",
        "Fav_Colour = 'Gray'\n",
        "\n",
        "Fav_Sport = 'Soccer'\n",
        "\n",
        "Fav_Team = 'Man U'"
      ],
      "metadata": {
        "id": "guYoKOp72xWR"
      },
      "execution_count": null,
      "outputs": []
    },
    {
      "cell_type": "code",
      "source": [
        "First_name = input('What is your first name? ')\n",
        "\n",
        "Last_Name = input('What is your last name? ')\n",
        "\n",
        "Age = input('What is your age? ')\n",
        "\n",
        "Fav_Colour = input('What is your favourite colour? ')\n",
        "\n",
        "Fav_Sport = input('What is your favourite sport? ')\n",
        "\n",
        "Fav_Team = input('What is your favourite team? ')"
      ],
      "metadata": {
        "id": "o6A2_H6Y4YcR"
      },
      "execution_count": null,
      "outputs": []
    },
    {
      "cell_type": "code",
      "source": [
        "print(f\"User first name is, {First_name}, last name is, {Last_Name}, age is, {Age},\\\n",
        "\n",
        " favourite colour is, {Fav_Colour}, favourite sport is, {Fav_Sport}, favourite team is, {Fav_Team}\")"
      ],
      "metadata": {
        "id": "peMupKB-4aJB"
      },
      "execution_count": null,
      "outputs": []
    }
  ]
}